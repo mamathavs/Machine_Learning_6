{
 "cells": [
  {
   "cell_type": "code",
   "execution_count": 52,
   "metadata": {},
   "outputs": [],
   "source": [
    "import warnings\n",
    "warnings.filterwarnings(\"ignore\")"
   ]
  },
  {
   "cell_type": "code",
   "execution_count": 53,
   "metadata": {},
   "outputs": [],
   "source": [
    "import numpy as np\n",
    "import pandas as pd\n",
    "import matplotlib as mpl\n",
    "import matplotlib.pyplot as plt \n",
    "import seaborn as sn\n",
    "from sklearn import preprocessing, cross_validation, svm\n",
    "from sklearn.linear_model import LogisticRegression\n",
    "from sklearn.preprocessing import StandardScaler\n",
    "from sklearn.metrics import confusion_matrix, classification_report\n",
    "%matplotlib inline"
   ]
  },
  {
   "cell_type": "code",
   "execution_count": 54,
   "metadata": {},
   "outputs": [
    {
     "name": "stdout",
     "output_type": "stream",
     "text": [
      "<class 'pandas.core.frame.DataFrame'>\n",
      "RangeIndex: 32561 entries, 0 to 32560\n",
      "Data columns (total 15 columns):\n",
      "Age               32561 non-null int64\n",
      "Workclass         32561 non-null object\n",
      "fnlgwt            32561 non-null int64\n",
      "Education         32561 non-null object\n",
      "Education num     32561 non-null int64\n",
      "Marital Status    32561 non-null object\n",
      "Occupation        32561 non-null object\n",
      "Relationship      32561 non-null object\n",
      "Race              32561 non-null object\n",
      "Sex               32561 non-null object\n",
      "Capital Gain      32561 non-null int64\n",
      "Capital Loss      32561 non-null int64\n",
      "Hours/Week        32561 non-null int64\n",
      "Native country    32561 non-null object\n",
      "Income            32561 non-null object\n",
      "dtypes: int64(6), object(9)\n",
      "memory usage: 3.7+ MB\n"
     ]
    }
   ],
   "source": [
    "#Load Dataset\n",
    "columns = ['Age','Workclass','fnlgwt','Education','Education num','Marital Status',\n",
    "           'Occupation','Relationship','Race','Sex','Capital Gain','Capital Loss',\n",
    "           'Hours/Week','Native country','Income']\n",
    "train = pd.read_csv('adult-training.csv', names=columns)\n",
    "test = pd.read_csv('adult-test.csv', names=columns, skiprows=1)\n",
    "train.info()"
   ]
  },
  {
   "cell_type": "code",
   "execution_count": 55,
   "metadata": {},
   "outputs": [],
   "source": [
    "df = pd.concat([train, test], axis=0)\n",
    "dff=df\n",
    "k=df\n",
    "\n",
    "df['Income'] = df['Income'].apply(lambda x: 1 if x==' >50K' else 0)\n",
    "\n",
    "for col in df.columns:\n",
    "    if type(df[col][0]) == str:\n",
    "        print(\"Working on \" + col)\n",
    "        df[col] = df[col].apply(lambda val: val.replace(\" \",\"\"))"
   ]
  },
  {
   "cell_type": "code",
   "execution_count": 56,
   "metadata": {},
   "outputs": [],
   "source": [
    "df.replace(' ?', np.nan, inplace=True)###making copy for visualization"
   ]
  },
  {
   "cell_type": "code",
   "execution_count": 57,
   "metadata": {},
   "outputs": [
    {
     "data": {
      "text/html": [
       "<div>\n",
       "<style scoped>\n",
       "    .dataframe tbody tr th:only-of-type {\n",
       "        vertical-align: middle;\n",
       "    }\n",
       "\n",
       "    .dataframe tbody tr th {\n",
       "        vertical-align: top;\n",
       "    }\n",
       "\n",
       "    .dataframe thead th {\n",
       "        text-align: right;\n",
       "    }\n",
       "</style>\n",
       "<table border=\"1\" class=\"dataframe\">\n",
       "  <thead>\n",
       "    <tr style=\"text-align: right;\">\n",
       "      <th></th>\n",
       "      <th>Age</th>\n",
       "      <th>fnlgwt</th>\n",
       "      <th>Education num</th>\n",
       "      <th>Capital Gain</th>\n",
       "      <th>Capital Loss</th>\n",
       "      <th>Hours/Week</th>\n",
       "      <th>Income</th>\n",
       "      <th>Workclass: Federal-gov</th>\n",
       "      <th>Workclass: Local-gov</th>\n",
       "      <th>Workclass: Never-worked</th>\n",
       "      <th>...</th>\n",
       "      <th>Native country: Portugal</th>\n",
       "      <th>Native country: Puerto-Rico</th>\n",
       "      <th>Native country: Scotland</th>\n",
       "      <th>Native country: South</th>\n",
       "      <th>Native country: Taiwan</th>\n",
       "      <th>Native country: Thailand</th>\n",
       "      <th>Native country: Trinadad&amp;Tobago</th>\n",
       "      <th>Native country: United-States</th>\n",
       "      <th>Native country: Vietnam</th>\n",
       "      <th>Native country: Yugoslavia</th>\n",
       "    </tr>\n",
       "  </thead>\n",
       "  <tbody>\n",
       "    <tr>\n",
       "      <th>0</th>\n",
       "      <td>39</td>\n",
       "      <td>77516</td>\n",
       "      <td>13</td>\n",
       "      <td>2174</td>\n",
       "      <td>0</td>\n",
       "      <td>40</td>\n",
       "      <td>0</td>\n",
       "      <td>0</td>\n",
       "      <td>0</td>\n",
       "      <td>0</td>\n",
       "      <td>...</td>\n",
       "      <td>0</td>\n",
       "      <td>0</td>\n",
       "      <td>0</td>\n",
       "      <td>0</td>\n",
       "      <td>0</td>\n",
       "      <td>0</td>\n",
       "      <td>0</td>\n",
       "      <td>1</td>\n",
       "      <td>0</td>\n",
       "      <td>0</td>\n",
       "    </tr>\n",
       "    <tr>\n",
       "      <th>1</th>\n",
       "      <td>50</td>\n",
       "      <td>83311</td>\n",
       "      <td>13</td>\n",
       "      <td>0</td>\n",
       "      <td>0</td>\n",
       "      <td>13</td>\n",
       "      <td>0</td>\n",
       "      <td>0</td>\n",
       "      <td>0</td>\n",
       "      <td>0</td>\n",
       "      <td>...</td>\n",
       "      <td>0</td>\n",
       "      <td>0</td>\n",
       "      <td>0</td>\n",
       "      <td>0</td>\n",
       "      <td>0</td>\n",
       "      <td>0</td>\n",
       "      <td>0</td>\n",
       "      <td>1</td>\n",
       "      <td>0</td>\n",
       "      <td>0</td>\n",
       "    </tr>\n",
       "    <tr>\n",
       "      <th>2</th>\n",
       "      <td>38</td>\n",
       "      <td>215646</td>\n",
       "      <td>9</td>\n",
       "      <td>0</td>\n",
       "      <td>0</td>\n",
       "      <td>40</td>\n",
       "      <td>0</td>\n",
       "      <td>0</td>\n",
       "      <td>0</td>\n",
       "      <td>0</td>\n",
       "      <td>...</td>\n",
       "      <td>0</td>\n",
       "      <td>0</td>\n",
       "      <td>0</td>\n",
       "      <td>0</td>\n",
       "      <td>0</td>\n",
       "      <td>0</td>\n",
       "      <td>0</td>\n",
       "      <td>1</td>\n",
       "      <td>0</td>\n",
       "      <td>0</td>\n",
       "    </tr>\n",
       "    <tr>\n",
       "      <th>3</th>\n",
       "      <td>53</td>\n",
       "      <td>234721</td>\n",
       "      <td>7</td>\n",
       "      <td>0</td>\n",
       "      <td>0</td>\n",
       "      <td>40</td>\n",
       "      <td>0</td>\n",
       "      <td>0</td>\n",
       "      <td>0</td>\n",
       "      <td>0</td>\n",
       "      <td>...</td>\n",
       "      <td>0</td>\n",
       "      <td>0</td>\n",
       "      <td>0</td>\n",
       "      <td>0</td>\n",
       "      <td>0</td>\n",
       "      <td>0</td>\n",
       "      <td>0</td>\n",
       "      <td>1</td>\n",
       "      <td>0</td>\n",
       "      <td>0</td>\n",
       "    </tr>\n",
       "    <tr>\n",
       "      <th>4</th>\n",
       "      <td>28</td>\n",
       "      <td>338409</td>\n",
       "      <td>13</td>\n",
       "      <td>0</td>\n",
       "      <td>0</td>\n",
       "      <td>40</td>\n",
       "      <td>0</td>\n",
       "      <td>0</td>\n",
       "      <td>0</td>\n",
       "      <td>0</td>\n",
       "      <td>...</td>\n",
       "      <td>0</td>\n",
       "      <td>0</td>\n",
       "      <td>0</td>\n",
       "      <td>0</td>\n",
       "      <td>0</td>\n",
       "      <td>0</td>\n",
       "      <td>0</td>\n",
       "      <td>0</td>\n",
       "      <td>0</td>\n",
       "      <td>0</td>\n",
       "    </tr>\n",
       "  </tbody>\n",
       "</table>\n",
       "<p>5 rows × 90 columns</p>\n",
       "</div>"
      ],
      "text/plain": [
       "   Age  fnlgwt  Education num  Capital Gain  Capital Loss  Hours/Week  Income  \\\n",
       "0   39   77516             13          2174             0          40       0   \n",
       "1   50   83311             13             0             0          13       0   \n",
       "2   38  215646              9             0             0          40       0   \n",
       "3   53  234721              7             0             0          40       0   \n",
       "4   28  338409             13             0             0          40       0   \n",
       "\n",
       "   Workclass: Federal-gov  Workclass: Local-gov  Workclass: Never-worked  \\\n",
       "0                       0                     0                        0   \n",
       "1                       0                     0                        0   \n",
       "2                       0                     0                        0   \n",
       "3                       0                     0                        0   \n",
       "4                       0                     0                        0   \n",
       "\n",
       "              ...              Native country: Portugal  \\\n",
       "0             ...                                     0   \n",
       "1             ...                                     0   \n",
       "2             ...                                     0   \n",
       "3             ...                                     0   \n",
       "4             ...                                     0   \n",
       "\n",
       "   Native country: Puerto-Rico  Native country: Scotland  \\\n",
       "0                            0                         0   \n",
       "1                            0                         0   \n",
       "2                            0                         0   \n",
       "3                            0                         0   \n",
       "4                            0                         0   \n",
       "\n",
       "   Native country: South  Native country: Taiwan  Native country: Thailand  \\\n",
       "0                      0                       0                         0   \n",
       "1                      0                       0                         0   \n",
       "2                      0                       0                         0   \n",
       "3                      0                       0                         0   \n",
       "4                      0                       0                         0   \n",
       "\n",
       "   Native country: Trinadad&Tobago  Native country: United-States  \\\n",
       "0                                0                              1   \n",
       "1                                0                              1   \n",
       "2                                0                              1   \n",
       "3                                0                              1   \n",
       "4                                0                              0   \n",
       "\n",
       "   Native country: Vietnam  Native country: Yugoslavia  \n",
       "0                        0                           0  \n",
       "1                        0                           0  \n",
       "2                        0                           0  \n",
       "3                        0                           0  \n",
       "4                        0                           0  \n",
       "\n",
       "[5 rows x 90 columns]"
      ]
     },
     "execution_count": 57,
     "metadata": {},
     "output_type": "execute_result"
    }
   ],
   "source": [
    "df = pd.concat([df, pd.get_dummies(df['Workclass'],prefix='Workclass',prefix_sep=':')], axis=1)\n",
    "df.drop('Workclass',axis=1,inplace=True)\n",
    "\n",
    "df = pd.concat([df, pd.get_dummies(df['Marital Status'],prefix='Marital Status',prefix_sep=':')], axis=1)\n",
    "df.drop('Marital Status',axis=1,inplace=True)\n",
    "\n",
    "df = pd.concat([df, pd.get_dummies(df['Occupation'],prefix='Occupation',prefix_sep=':')], axis=1)\n",
    "df.drop('Occupation',axis=1,inplace=True)\n",
    "\n",
    "df = pd.concat([df, pd.get_dummies(df['Relationship'],prefix='Relationship',prefix_sep=':')], axis=1)\n",
    "df.drop('Relationship',axis=1,inplace=True)\n",
    "\n",
    "df = pd.concat([df, pd.get_dummies(df['Race'],prefix='Race',prefix_sep=':')], axis=1)\n",
    "df.drop('Race',axis=1,inplace=True)\n",
    "\n",
    "df = pd.concat([df, pd.get_dummies(df['Sex'],prefix='Sex',prefix_sep=':')], axis=1)\n",
    "df.drop('Sex',axis=1,inplace=True)\n",
    "\n",
    "df = pd.concat([df, pd.get_dummies(df['Native country'],prefix='Native country',prefix_sep=':')], axis=1)\n",
    "df.drop('Native country',axis=1,inplace=True)\n",
    "\n",
    "df.drop('Education', axis=1,inplace=True)\n",
    "\n",
    "df.head()"
   ]
  },
  {
   "cell_type": "code",
   "execution_count": 58,
   "metadata": {},
   "outputs": [
    {
     "data": {
      "image/png": "[encoded data removed]",
      "text/plain": [
       "<Figure size 432x288 with 1 Axes>"
      ]
     },
     "metadata": {
      "needs_background": "light"
     },
     "output_type": "display_data"
    }
   ],
   "source": [
    "plt.hist(dff['Age']);\n",
    "\n",
    "dff['Income'] = dff['Income'].apply(lambda x: 1 if x==' >50K.' else 0)\n",
    "\n",
    "dff.replace(' ?', np.nan, inplace=True)\n",
    "#The output for the this line of code can be viewed at https://tinyurl.com/y8ddex6h"
   ]
  },
  {
   "cell_type": "code",
   "execution_count": 59,
   "metadata": {},
   "outputs": [],
   "source": [
    "X = np.array(df.drop(['Income'], 1))\n",
    "y = np.array(df['Income'])\n",
    "X = preprocessing.scale(X)\n",
    "y = np.array(df['Income'])"
   ]
  },
  {
   "cell_type": "code",
   "execution_count": 60,
   "metadata": {},
   "outputs": [],
   "source": [
    "X_train, X_test, y_train, y_test = cross_validation.train_test_split(X, y, test_size=0.2)"
   ]
  },
  {
   "cell_type": "code",
   "execution_count": 61,
   "metadata": {},
   "outputs": [],
   "source": [
    "import xgboost as xgb\n",
    "from sklearn.model_selection import StratifiedKFold\n",
    "from sklearn.model_selection import GridSearchCV\n",
    "\n",
    "model = xgb.XGBClassifier()\n",
    "learning_rate = [0.0001, 0.001, 0.01, 0.1, 0.2, 0.3]\n",
    "param_grid = dict(learning_rate=learning_rate)\n",
    "kfold = StratifiedKFold(n_splits=10, shuffle=True, random_state=7)\n",
    "grid_search = GridSearchCV(model, param_grid, scoring=\"neg_log_loss\", n_jobs=-1, cv=kfold)\n",
    "grid_result = grid_search.fit(X_train, y_train)"
   ]
  },
  {
   "cell_type": "code",
   "execution_count": 62,
   "metadata": {},
   "outputs": [
    {
     "name": "stdout",
     "output_type": "stream",
     "text": [
      "Best: -0.296032 using {'learning_rate': 0.3}\n",
      "-0.687382 (0.000035) with: {'learning_rate': 0.0001}\n",
      "-0.640217 (0.000324) with: {'learning_rate': 0.001}\n",
      "-0.413985 (0.001812) with: {'learning_rate': 0.01}\n",
      "-0.301070 (0.004352) with: {'learning_rate': 0.1}\n",
      "-0.297121 (0.004607) with: {'learning_rate': 0.2}\n",
      "-0.296032 (0.005016) with: {'learning_rate': 0.3}\n"
     ]
    }
   ],
   "source": [
    "print(\"Best: %f using %s\" % (grid_result.best_score_, grid_result.best_params_))\n",
    "means = grid_result.cv_results_['mean_test_score']\n",
    "stds = grid_result.cv_results_['std_test_score']\n",
    "params = grid_result.cv_results_['params']\n",
    "for mean, stdev, param in zip(means, stds, params):\n",
    "\tprint(\"%f (%f) with: %r\" % (mean, stdev, param))"
   ]
  },
  {
   "cell_type": "code",
   "execution_count": 63,
   "metadata": {},
   "outputs": [
    {
     "data": {
      "image/png": "[encoded data removed]",
      "text/plain": [
       "<Figure size 432x288 with 1 Axes>"
      ]
     },
     "metadata": {
      "needs_background": "light"
     },
     "output_type": "display_data"
    }
   ],
   "source": [
    "from matplotlib import pyplot\n",
    "# plot\n",
    "pyplot.errorbar(learning_rate, means, yerr=stds)\n",
    "pyplot.title(\"XGBoost learning_rate vs Log Loss\")\n",
    "pyplot.xlabel('learning_rate')\n",
    "pyplot.ylabel('Log Loss')\n",
    "pyplot.savefig('learning_rate.png')"
   ]
  },
  {
   "cell_type": "code",
   "execution_count": 64,
   "metadata": {},
   "outputs": [],
   "source": [
    "from xgboost import XGBClassifier\n",
    "from sklearn.model_selection import GridSearchCV\n",
    "from sklearn.model_selection import StratifiedKFold\n",
    "from sklearn.preprocessing import LabelEncoder\n",
    "import matplotlib\n",
    "import numpy\n",
    "from matplotlib import pyplot\n",
    "from pandas import read_csv"
   ]
  },
  {
   "cell_type": "code",
   "execution_count": 65,
   "metadata": {},
   "outputs": [
    {
     "name": "stdout",
     "output_type": "stream",
     "text": [
      "Best: -0.294436 using {'learning_rate': 0.2, 'n_estimators': 300}\n",
      "-0.687382 (0.000035) with: {'learning_rate': 0.0001, 'n_estimators': 100}\n",
      "-0.681728 (0.000070) with: {'learning_rate': 0.0001, 'n_estimators': 200}\n",
      "-0.676184 (0.000103) with: {'learning_rate': 0.0001, 'n_estimators': 300}\n",
      "-0.670749 (0.000136) with: {'learning_rate': 0.0001, 'n_estimators': 400}\n",
      "-0.665417 (0.000168) with: {'learning_rate': 0.0001, 'n_estimators': 500}\n",
      "-0.640217 (0.000324) with: {'learning_rate': 0.001, 'n_estimators': 100}\n",
      "-0.596314 (0.000596) with: {'learning_rate': 0.001, 'n_estimators': 200}\n",
      "-0.559486 (0.000797) with: {'learning_rate': 0.001, 'n_estimators': 300}\n",
      "-0.528268 (0.000967) with: {'learning_rate': 0.001, 'n_estimators': 400}\n",
      "-0.501646 (0.001122) with: {'learning_rate': 0.001, 'n_estimators': 500}\n",
      "-0.413985 (0.001812) with: {'learning_rate': 0.01, 'n_estimators': 100}\n",
      "-0.344800 (0.002934) with: {'learning_rate': 0.01, 'n_estimators': 200}\n",
      "-0.322628 (0.003469) with: {'learning_rate': 0.01, 'n_estimators': 300}\n",
      "-0.313546 (0.003838) with: {'learning_rate': 0.01, 'n_estimators': 400}\n",
      "-0.308876 (0.004035) with: {'learning_rate': 0.01, 'n_estimators': 500}\n",
      "-0.301070 (0.004352) with: {'learning_rate': 0.1, 'n_estimators': 100}\n",
      "-0.298128 (0.004628) with: {'learning_rate': 0.1, 'n_estimators': 200}\n",
      "-0.296190 (0.004553) with: {'learning_rate': 0.1, 'n_estimators': 300}\n",
      "-0.295131 (0.004492) with: {'learning_rate': 0.1, 'n_estimators': 400}\n",
      "-0.294576 (0.004688) with: {'learning_rate': 0.1, 'n_estimators': 500}\n",
      "-0.297121 (0.004607) with: {'learning_rate': 0.2, 'n_estimators': 100}\n",
      "-0.294972 (0.004546) with: {'learning_rate': 0.2, 'n_estimators': 200}\n",
      "-0.294436 (0.004945) with: {'learning_rate': 0.2, 'n_estimators': 300}\n",
      "-0.294883 (0.004980) with: {'learning_rate': 0.2, 'n_estimators': 400}\n",
      "-0.295496 (0.005355) with: {'learning_rate': 0.2, 'n_estimators': 500}\n",
      "-0.296032 (0.005016) with: {'learning_rate': 0.3, 'n_estimators': 100}\n",
      "-0.294823 (0.005078) with: {'learning_rate': 0.3, 'n_estimators': 200}\n",
      "-0.295319 (0.004897) with: {'learning_rate': 0.3, 'n_estimators': 300}\n",
      "-0.296856 (0.005237) with: {'learning_rate': 0.3, 'n_estimators': 400}\n",
      "-0.298178 (0.005387) with: {'learning_rate': 0.3, 'n_estimators': 500}\n"
     ]
    }
   ],
   "source": [
    "model = XGBClassifier()\n",
    "n_estimators = [100, 200, 300, 400, 500]\n",
    "learning_rate = [0.0001, 0.001, 0.01, 0.1, 0.2, 0.3]\n",
    "param_grid = dict(learning_rate=learning_rate, n_estimators=n_estimators)\n",
    "kfold = StratifiedKFold(n_splits=10, shuffle=True, random_state=7)\n",
    "grid_search = GridSearchCV(model, param_grid, scoring=\"neg_log_loss\", n_jobs=-1, cv=kfold)\n",
    "grid_result = grid_search.fit(X_train, y_train)\n",
    "# summarize results\n",
    "print(\"Best: %f using %s\" % (grid_result.best_score_, grid_result.best_params_))\n",
    "means = grid_result.cv_results_['mean_test_score']\n",
    "stds = grid_result.cv_results_['std_test_score']\n",
    "params = grid_result.cv_results_['params']\n",
    "for mean, stdev, param in zip(means, stds, params):\n",
    "\tprint(\"%f (%f) with: %r\" % (mean, stdev, param))"
   ]
  },
  {
   "cell_type": "code",
   "execution_count": 66,
   "metadata": {},
   "outputs": [
    {
     "data": {
      "image/png": "[encoded data removed]",
      "text/plain": [
       "<Figure size 432x288 with 1 Axes>"
      ]
     },
     "metadata": {
      "needs_background": "light"
     },
     "output_type": "display_data"
    }
   ],
   "source": [
    "cores = numpy.array(means).reshape(len(learning_rate), len(n_estimators))\n",
    "for i, value in enumerate(learning_rate):\n",
    "    pyplot.plot(n_estimators, scores[i], label='learning_rate: ' + str(value))\n",
    "pyplot.legend()\n",
    "pyplot.xlabel('n_estimators')\n",
    "pyplot.ylabel('Log Loss')\n",
    "pyplot.savefig('n_estimators_vs_learning_rate.png')"
   ]
  },
  {
   "cell_type": "code",
   "execution_count": 70,
   "metadata": {},
   "outputs": [
    {
     "data": {
      "image/png": "[encoded data removed]",
      "text/plain": [
       "<Figure size 432x288 with 1 Axes>"
      ]
     },
     "metadata": {
      "needs_background": "light"
     },
     "output_type": "display_data"
    },
    {
     "name": "stdout",
     "output_type": "stream",
     "text": [
      "training set auc: 0.8624219469751254\n",
      "test set auc: 0.8624219469751254\n",
      "{'base_score': 0.5, 'booster': 'gbtree', 'colsample_bylevel': 1, 'colsample_bytree': 1, 'gamma': 0, 'learning_rate': 0.1, 'max_delta_step': 0, 'max_depth': 5, 'min_child_weight': 4, 'missing': None, 'n_estimators': 500, 'n_jobs': 1, 'nthread': None, 'objective': 'binary:logistic', 'random_state': 0, 'reg_alpha': 0, 'reg_lambda': 1, 'scale_pos_weight': 1, 'seed': None, 'silent': True, 'subsample': 1}\n"
     ]
    }
   ],
   "source": [
    "from sklearn.metrics import accuracy_score\n",
    "import xgboost as xgb\n",
    "from sklearn.model_selection import StratifiedKFold\n",
    "from sklearn.model_selection import GridSearchCV\n",
    "model = xgb.XGBClassifier(learning_rate=0.1,\n",
    "                           n_estimators=500,\n",
    "                           max_depth=5,\n",
    "                           min_child_weight=4\n",
    "                           )\n",
    "final_m=model.fit(X_train, y_train)\n",
    "xgb.plot_importance(final_m)\n",
    "plt.show()\n",
    "predictions = model.predict(X_test)\n",
    "print(\"training set auc:\",accuracy_score(y_test, predictions))\n",
    "predictions = model.predict(X_test)\n",
    "print(\"test set auc:\",accuracy_score(y_test, predictions))\n",
    "print(model.get_params())"
   ]
  },
  {
   "cell_type": "code",
   "execution_count": 71,
   "metadata": {},
   "outputs": [
    {
     "name": "stdout",
     "output_type": "stream",
     "text": [
      "The Accuracy  is 0.8624219469751254\n"
     ]
    }
   ],
   "source": [
    "XGBA = accuracy_score(y_test, predictions)\n",
    "print(\"The Accuracy  is {}\".format(XGBA))"
   ]
  },
  {
   "cell_type": "code",
   "execution_count": null,
   "metadata": {},
   "outputs": [],
   "source": []
  }
 ],
 "metadata": {
  "kernelspec": {
   "display_name": "Python 3",
   "language": "python",
   "name": "python3"
  },
  "language_info": {
   "codemirror_mode": {
    "name": "ipython",
    "version": 3
   },
   "file_extension": ".py",
   "mimetype": "text/x-python",
   "name": "python",
   "nbconvert_exporter": "python",
   "pygments_lexer": "ipython3",
   "version": "3.7.0"
  }
 },
 "nbformat": 4,
 "nbformat_minor": 2
}
